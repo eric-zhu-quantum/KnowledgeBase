{
 "cells": [
  {
   "cell_type": "markdown",
   "metadata": {},
   "source": [
    "## How to write the date/time as a string"
   ]
  },
  {
   "cell_type": "markdown",
   "metadata": {},
   "source": [
    "The current time:"
   ]
  },
  {
   "cell_type": "code",
   "execution_count": 2,
   "metadata": {},
   "outputs": [
    {
     "name": "stdout",
     "output_type": "stream",
     "text": [
      "2020_10_24__18.09.19_hrs\n"
     ]
    }
   ],
   "source": [
    "from datetime import datetime\n",
    "\n",
    "\n",
    "now = datetime.now()\n",
    "datestr = now.strftime(\"%Y_%m_%d__%H.%M.%S_hrs\") # %H for 24-hour scheme\n",
    "\n",
    "print(datestr)"
   ]
  },
  {
   "cell_type": "markdown",
   "metadata": {},
   "source": [
    "Some other date + time:"
   ]
  },
  {
   "cell_type": "code",
   "execution_count": 20,
   "metadata": {},
   "outputs": [
    {
     "name": "stdout",
     "output_type": "stream",
     "text": [
      "No time specified, defaults to zero-hundred hours:  1969-06-09 00:00:00\n",
      "\n",
      "Now with the time appended:  1969-06-09 18:09:55\n",
      "\n",
      "Formatted Date (no time):  1969_06_09\n",
      "\n",
      "Formatted Time (no date):  18_09_55_hrs\n"
     ]
    }
   ],
   "source": [
    "SomeOtherTime = datetime(year = 1969, month = 6, day = 9)\n",
    "\n",
    "print('No time specified, defaults to zero-hundred hours: ',SomeOtherTime)\n",
    "\n",
    "SomeOtherTime = datetime(year = 1969, month = 6, day = 9, hour = 18, minute = 9, second = 55)\n",
    "\n",
    "print('\\nNow with the time appended: ', SomeOtherTime)\n",
    "\n",
    "print('\\nFormatted Date (no time): ', SomeOtherTime.strftime('%Y_%m_%d'))\n",
    "\n",
    "print('\\nFormatted Time (no date): ', SomeOtherTime.strftime('%H_%M_%S_hrs'))"
   ]
  }
 ],
 "metadata": {
  "kernelspec": {
   "display_name": "Python 3",
   "language": "python",
   "name": "python3"
  },
  "language_info": {
   "codemirror_mode": {
    "name": "ipython",
    "version": 3
   },
   "file_extension": ".py",
   "mimetype": "text/x-python",
   "name": "python",
   "nbconvert_exporter": "python",
   "pygments_lexer": "ipython3",
   "version": "3.6.10"
  }
 },
 "nbformat": 4,
 "nbformat_minor": 4
}
