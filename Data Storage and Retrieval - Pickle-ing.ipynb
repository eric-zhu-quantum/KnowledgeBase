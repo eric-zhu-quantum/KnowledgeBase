{
 "cells": [
  {
   "cell_type": "markdown",
   "metadata": {},
   "source": [
    "## Save generated data to a pickle file"
   ]
  },
  {
   "cell_type": "markdown",
   "metadata": {},
   "source": [
    "Create some data:"
   ]
  },
  {
   "cell_type": "code",
   "execution_count": 38,
   "metadata": {},
   "outputs": [],
   "source": [
    "A = [a**3 for a in range(5)]\n",
    "\n",
    "B = ('abc', 'def', 'ghi')\n",
    "\n",
    "C = {\"a\":['abate', 'abandon'], \"b\":['ballast', 'baloon']}\n"
   ]
  },
  {
   "cell_type": "markdown",
   "metadata": {},
   "source": [
    "Now save all 3 variables into a Pickle file:"
   ]
  },
  {
   "cell_type": "code",
   "execution_count": 28,
   "metadata": {},
   "outputs": [],
   "source": [
    "import pickle\n",
    "\n",
    "#create filename: \n",
    "filename = 'pickle0.pkl'\n",
    "\n",
    "with open(filename, 'wb') as fid: #wb == write in binary, overwrites previous file of the same name\n",
    "  pickle.dump( (A,B,C), fid)"
   ]
  },
  {
   "cell_type": "markdown",
   "metadata": {},
   "source": [
    "Let's read the contents of the pickled file:"
   ]
  },
  {
   "cell_type": "code",
   "execution_count": 37,
   "metadata": {},
   "outputs": [
    {
     "name": "stdout",
     "output_type": "stream",
     "text": [
      "The entire contents of the pickle file, in a single tuple: \n",
      " ([0, 1, 8, 27, 64], ('abc', 'def', 'ghi'), {'a': ['abate', 'abandon'], 'b': ['ballast', 'baloon']})\n",
      "\n",
      "Unravel the tuple into its constituent variables:\n",
      "[0, 1, 8, 27, 64]\n",
      "('abc', 'def', 'ghi')\n",
      "{'a': ['abate', 'abandon'], 'b': ['ballast', 'baloon']}\n"
     ]
    }
   ],
   "source": [
    "with open(filename, 'rb') as fid:\n",
    "  content = pickle.load(fid) # all 3 variables dumped out as a tuple\n",
    "\n",
    "print('The entire contents of the pickle file, in a single tuple: \\n',content)  # print the tuple of data\n",
    "\n",
    "print('\\nUnravel the tuple into its constituent variables:')\n",
    "for k in content:  # unravel the tuple \n",
    "  print(k)"
   ]
  },
  {
   "cell_type": "markdown",
   "metadata": {},
   "source": [
    "We often don't want to overwrite previous datasets.  Let's append the date and time to the filename so that the filename is unique:"
   ]
  },
  {
   "cell_type": "code",
   "execution_count": 43,
   "metadata": {},
   "outputs": [
    {
     "name": "stdout",
     "output_type": "stream",
     "text": [
      "New Filename =  pickle0.2020_10_24__18_43_23_hrs.pkl\n"
     ]
    }
   ],
   "source": [
    "from datetime import datetime\n",
    "\n",
    "filenameNew = 'pickle0.' + datetime.now().strftime('%Y_%m_%d__%H_%M_%S_hrs') + '.pkl'\n",
    "\n",
    "print('New Filename = ', filenameNew)\n",
    "with open(filenameNew, 'wb') as fid: #wb == write in binary, overwrites previous file of the same name\n",
    "  pickle.dump( (A,B,C), fid)"
   ]
  },
  {
   "cell_type": "code",
   "execution_count": 50,
   "metadata": {},
   "outputs": [
    {
     "name": "stdout",
     "output_type": "stream",
     "text": [
      "pickle0.2020_10_24__18_43_23_hrs.pkl\n",
      "pickle0.pkl\n"
     ]
    }
   ],
   "source": [
    "! ls *.pkl\n",
    "# look at contents of current working directory"
   ]
  }
 ],
 "metadata": {
  "kernelspec": {
   "display_name": "Python 3",
   "language": "python",
   "name": "python3"
  },
  "language_info": {
   "codemirror_mode": {
    "name": "ipython",
    "version": 3
   },
   "file_extension": ".py",
   "mimetype": "text/x-python",
   "name": "python",
   "nbconvert_exporter": "python",
   "pygments_lexer": "ipython3",
   "version": "3.6.10"
  }
 },
 "nbformat": 4,
 "nbformat_minor": 4
}
